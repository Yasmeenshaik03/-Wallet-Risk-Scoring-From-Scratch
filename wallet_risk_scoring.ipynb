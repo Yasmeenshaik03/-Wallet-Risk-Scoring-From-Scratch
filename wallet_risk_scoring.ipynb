{
  "nbformat": 4,
  "nbformat_minor": 0,
  "metadata": {
    "colab": {
      "provenance": [],
      "authorship_tag": "ABX9TyN2hGWR/o8emxiUWnx/DS3a",
      "include_colab_link": true
    },
    "kernelspec": {
      "name": "python3",
      "display_name": "Python 3"
    },
    "language_info": {
      "name": "python"
    }
  },
  "cells": [
    {
      "cell_type": "markdown",
      "metadata": {
        "id": "view-in-github",
        "colab_type": "text"
      },
      "source": [
        "<a href=\"https://colab.research.google.com/github/Yasmeenshaik03/-Wallet-Risk-Scoring-From-Scratch/blob/main/wallet_risk_scoring.ipynb\" target=\"_parent\"><img src=\"https://colab.research.google.com/assets/colab-badge.svg\" alt=\"Open In Colab\"/></a>"
      ]
    },
    {
      "cell_type": "code",
      "execution_count": 1,
      "metadata": {
        "colab": {
          "base_uri": "https://localhost:8080/"
        },
        "id": "8nA5h5ttuBsx",
        "outputId": "7779a855-dac3-421d-af12-3a42ba752a81"
      },
      "outputs": [
        {
          "output_type": "stream",
          "name": "stdout",
          "text": [
            "✅ wallet_risk_scores.csv has been generated:\n",
            "                                    wallet_id  score\n",
            "0  0xfaa0768bde629806739c3a4620656c5d26f44ef2      0\n",
            "1  0x1234567890abcdef1234567890abcdef12345678    583\n",
            "2  0xabcdefabcdefabcdefabcdefabcdefabcdefabcd   1000\n"
          ]
        }
      ],
      "source": [
        "import pandas as pd\n",
        "import numpy as np\n",
        "from sklearn.preprocessing import MinMaxScaler\n",
        "\n",
        "# Simulated Wallet Data (replace with real transaction data if available)\n",
        "wallets = [\n",
        "    \"0xfaa0768bde629806739c3a4620656c5d26f44ef2\",\n",
        "    \"0x1234567890abcdef1234567890abcdef12345678\",\n",
        "    \"0xabcdefabcdefabcdefabcdefabcdefabcdefabcd\"\n",
        "]\n",
        "\n",
        "np.random.seed(42)\n",
        "data = {\n",
        "    'wallet_id': wallets,\n",
        "    'total_supplied': np.random.uniform(1000, 10000, len(wallets)),\n",
        "    'total_borrowed': np.random.uniform(500, 8000, len(wallets)),\n",
        "    'total_repaid': np.random.uniform(300, 7000, len(wallets)),\n",
        "    'liquidation_count': np.random.randint(0, 5, len(wallets)),\n",
        "    'last_active_days_ago': np.random.randint(1, 180, len(wallets))\n",
        "}\n",
        "\n",
        "df = pd.DataFrame(data)\n",
        "\n",
        "# Feature Engineering\n",
        "df['repayment_ratio'] = df['total_repaid'] / (df['total_borrowed'] + 1e-6)\n",
        "df['collateral_ratio'] = df['total_supplied'] / (df['total_borrowed'] + 1e-6)\n",
        "\n",
        "# Normalize Features\n",
        "features = ['repayment_ratio', 'collateral_ratio', 'total_borrowed', 'liquidation_count', 'last_active_days_ago']\n",
        "scaler = MinMaxScaler()\n",
        "normalized = scaler.fit_transform(df[features])\n",
        "df_norm = pd.DataFrame(normalized, columns=['repay', 'collat', 'borrow', 'liq', 'inactive'])\n",
        "\n",
        "# Weighted Scoring\n",
        "df['score'] = (\n",
        "    df_norm['repay'] * 0.3 +\n",
        "    df_norm['collat'] * 0.25 +\n",
        "    df_norm['borrow'] * 0.15 -\n",
        "    df_norm['liq'] * 0.2 -\n",
        "    df_norm['inactive'] * 0.1\n",
        ")\n",
        "\n",
        "# Scale score to 0–1000\n",
        "df['score'] = ((df['score'] - df['score'].min()) / (df['score'].max() - df['score'].min()) * 1000).astype(int)\n",
        "\n",
        "# Output CSV\n",
        "final_df = df[['wallet_id', 'score']]\n",
        "final_df.to_csv(\"wallet_risk_scores.csv\", index=False)\n",
        "print(\"✅ wallet_risk_scores.csv has been generated:\")\n",
        "print(final_df)\n"
      ]
    }
  ]
}